{
 "cells": [
  {
   "cell_type": "code",
   "execution_count": 1,
   "metadata": {
    "collapsed": true
   },
   "outputs": [],
   "source": [
    "from __future__ import print_function # Python 2/3 compatibility\n",
    "import boto3\n",
    "import json\n",
    "import decimal\n",
    "import pprint\n",
    "import datetime\n",
    "from boto3.dynamodb.conditions import Key, Attr\n",
    "from botocore.exceptions import ClientError\n"
   ]
  },
  {
   "cell_type": "code",
   "execution_count": 2,
   "metadata": {
    "collapsed": true
   },
   "outputs": [],
   "source": [
    "class DecimalEncoder(json.JSONEncoder):\n",
    "    def default(self, o):\n",
    "        if isinstance(o, decimal.Decimal):\n",
    "            if o % 1 > 0:\n",
    "                return float(o)\n",
    "            else:\n",
    "                return int(o)\n",
    "        return super(DecimalEncoder, self).default(o)\n",
    "\n",
    "dynamodb = boto3.resource('dynamodb')\n",
    "\n",
    "table = dynamodb.Table('Eve2')"
   ]
  },
  {
   "cell_type": "code",
   "execution_count": 3,
   "metadata": {
    "collapsed": true
   },
   "outputs": [],
   "source": [
    "def newTable(tableID):\n",
    "\n",
    "    dynamodb = boto3.resource('dynamodb')\n",
    "\n",
    "\n",
    "    table = dynamodb.create_table(\n",
    "        TableName= tableID,\n",
    "        KeySchema=[\n",
    "            {\n",
    "                'AttributeName': 'code',\n",
    "                'KeyType': 'HASH'  #Partition key\n",
    "            },\n",
    "           \n",
    "        ],\n",
    "        AttributeDefinitions=[\n",
    "            {\n",
    "                'AttributeName': 'code',\n",
    "                'AttributeType': 'S'\n",
    "            },\n",
    "            \n",
    "\n",
    "        ],\n",
    "        ProvisionedThroughput={\n",
    "            'ReadCapacityUnits': 1,\n",
    "            'WriteCapacityUnits': 1\n",
    "        }\n",
    "    )\n",
    "\n",
    "    print(\"Table status:\", table.table_status)"
   ]
  },
  {
   "cell_type": "code",
   "execution_count": 4,
   "metadata": {
    "collapsed": true
   },
   "outputs": [],
   "source": [
    "table = dynamodb.Table('Patients')"
   ]
  },
  {
   "cell_type": "code",
   "execution_count": 5,
   "metadata": {
    "collapsed": true
   },
   "outputs": [],
   "source": [
    "def addPatient(code,fname,lname,tn):\n",
    "    response = table.put_item(\n",
    "        Item={\n",
    "            'code': code,\n",
    "            'doses': {},\n",
    "            'info': {'firstname': fname, 'lastname': lname, 'tn': tn}\n",
    "                }   \n",
    "    )\n",
    "    return response"
   ]
  },
  {
   "cell_type": "code",
   "execution_count": 12,
   "metadata": {},
   "outputs": [],
   "source": [
    "def addDose(code,drugname,timetaken):\n",
    "    response = getPatient(code)\n",
    "    patient_record = (response['Item'])\n",
    "    \n",
    "    if(drugname not in patient_record['doses']) :\n",
    "        patient_record[\"doses\"][drugname] = []\n",
    "    ds1 = patient_record[\"doses\"][drugname]\n",
    "    ds1.append(timetaken)\n",
    "    \n",
    "    response = table.put_item(\n",
    "        Item = patient_record      \n",
    "    )\n",
    "    return response"
   ]
  },
  {
   "cell_type": "code",
   "execution_count": 13,
   "metadata": {},
   "outputs": [],
   "source": [
    "def getPatient(code):\n",
    "       \n",
    "    try:\n",
    "        response = table.get_item(\n",
    "            Key={\n",
    "                'code': code\n",
    "            }\n",
    "        )\n",
    "    except ClientError as e:\n",
    "        print(e.response['Error']['Message'])\n",
    "    else:\n",
    "        item = response['Item']\n",
    "        \n",
    "        #print (item['info'])\n",
    "       \n",
    "    return response\n"
   ]
  },
  {
   "cell_type": "code",
   "execution_count": 9,
   "metadata": {},
   "outputs": [
    {
     "data": {
      "text/plain": [
       "{'ResponseMetadata': {'HTTPHeaders': {'connection': 'keep-alive',\n",
       "   'content-length': '2',\n",
       "   'content-type': 'application/x-amz-json-1.0',\n",
       "   'date': 'Thu, 04 Jan 2018 01:51:46 GMT',\n",
       "   'server': 'Server',\n",
       "   'x-amz-crc32': '2745614147',\n",
       "   'x-amzn-requestid': 'DOPQTUJBM63DSVIHLNHNQKQ977VV4KQNSO5AEMVJF66Q9ASUAAJG'},\n",
       "  'HTTPStatusCode': 200,\n",
       "  'RequestId': 'DOPQTUJBM63DSVIHLNHNQKQ977VV4KQNSO5AEMVJF66Q9ASUAAJG',\n",
       "  'RetryAttempts': 0}}"
      ]
     },
     "execution_count": 9,
     "metadata": {},
     "output_type": "execute_result"
    }
   ],
   "source": [
    "addPatient('4202','John','Doe','5555559955')"
   ]
  },
  {
   "cell_type": "code",
   "execution_count": 10,
   "metadata": {},
   "outputs": [
    {
     "data": {
      "text/plain": [
       "{'Item': {'code': '4202',\n",
       "  'doses': {},\n",
       "  'info': {'firstname': 'John', 'lastname': 'Doe', 'tn': '5555559955'}},\n",
       " 'ResponseMetadata': {'HTTPHeaders': {'connection': 'keep-alive',\n",
       "   'content-length': '134',\n",
       "   'content-type': 'application/x-amz-json-1.0',\n",
       "   'date': 'Thu, 04 Jan 2018 01:51:46 GMT',\n",
       "   'server': 'Server',\n",
       "   'x-amz-crc32': '3947032480',\n",
       "   'x-amzn-requestid': '520L4ON3GSENGOPMSHEFL3DS0JVV4KQNSO5AEMVJF66Q9ASUAAJG'},\n",
       "  'HTTPStatusCode': 200,\n",
       "  'RequestId': '520L4ON3GSENGOPMSHEFL3DS0JVV4KQNSO5AEMVJF66Q9ASUAAJG',\n",
       "  'RetryAttempts': 0}}"
      ]
     },
     "execution_count": 10,
     "metadata": {},
     "output_type": "execute_result"
    }
   ],
   "source": [
    "getPatient('4202')"
   ]
  },
  {
   "cell_type": "code",
   "execution_count": 14,
   "metadata": {},
   "outputs": [
    {
     "data": {
      "text/plain": [
       "{'ResponseMetadata': {'HTTPHeaders': {'connection': 'keep-alive',\n",
       "   'content-length': '2',\n",
       "   'content-type': 'application/x-amz-json-1.0',\n",
       "   'date': 'Thu, 04 Jan 2018 01:54:38 GMT',\n",
       "   'server': 'Server',\n",
       "   'x-amz-crc32': '2745614147',\n",
       "   'x-amzn-requestid': 'RR0E4A21GISAF5OSICO6SCK4SJVV4KQNSO5AEMVJF66Q9ASUAAJG'},\n",
       "  'HTTPStatusCode': 200,\n",
       "  'RequestId': 'RR0E4A21GISAF5OSICO6SCK4SJVV4KQNSO5AEMVJF66Q9ASUAAJG',\n",
       "  'RetryAttempts': 0}}"
      ]
     },
     "execution_count": 14,
     "metadata": {},
     "output_type": "execute_result"
    }
   ],
   "source": [
    "addDose('4202','Tylenol','2018-02-03 04:30')"
   ]
  },
  {
   "cell_type": "code",
   "execution_count": 15,
   "metadata": {},
   "outputs": [
    {
     "data": {
      "text/plain": [
       "{'Item': {'code': '4202',\n",
       "  'doses': {'Tylenol': ['2018-02-03 04:30']},\n",
       "  'info': {'firstname': 'John', 'lastname': 'Doe', 'tn': '5555559955'}},\n",
       " 'ResponseMetadata': {'HTTPHeaders': {'connection': 'keep-alive',\n",
       "   'content-length': '176',\n",
       "   'content-type': 'application/x-amz-json-1.0',\n",
       "   'date': 'Thu, 04 Jan 2018 01:54:54 GMT',\n",
       "   'server': 'Server',\n",
       "   'x-amz-crc32': '1976460740',\n",
       "   'x-amzn-requestid': '3G0V9Q1IL3350CCPOOEINBKF6JVV4KQNSO5AEMVJF66Q9ASUAAJG'},\n",
       "  'HTTPStatusCode': 200,\n",
       "  'RequestId': '3G0V9Q1IL3350CCPOOEINBKF6JVV4KQNSO5AEMVJF66Q9ASUAAJG',\n",
       "  'RetryAttempts': 0}}"
      ]
     },
     "execution_count": 15,
     "metadata": {},
     "output_type": "execute_result"
    }
   ],
   "source": [
    "getPatient('4202')"
   ]
  },
  {
   "cell_type": "code",
   "execution_count": null,
   "metadata": {
    "collapsed": true
   },
   "outputs": [],
   "source": []
  },
  {
   "cell_type": "markdown",
   "metadata": {},
   "source": [
    "## play area"
   ]
  },
  {
   "cell_type": "code",
   "execution_count": null,
   "metadata": {},
   "outputs": [],
   "source": [
    "pprint.pprint(response['Item'])"
   ]
  },
  {
   "cell_type": "code",
   "execution_count": null,
   "metadata": {
    "collapsed": true
   },
   "outputs": [],
   "source": [
    "patient_record = (response['Item'])"
   ]
  },
  {
   "cell_type": "code",
   "execution_count": null,
   "metadata": {},
   "outputs": [],
   "source": [
    "pprint.pprint(patient_record)"
   ]
  },
  {
   "cell_type": "code",
   "execution_count": null,
   "metadata": {
    "collapsed": true
   },
   "outputs": [],
   "source": [
    "patient_record[\"doses\"]['cocaine'] = []"
   ]
  },
  {
   "cell_type": "code",
   "execution_count": null,
   "metadata": {},
   "outputs": [],
   "source": [
    "patient_record[\"doses\"].keys()"
   ]
  },
  {
   "cell_type": "code",
   "execution_count": null,
   "metadata": {},
   "outputs": [],
   "source": [
    "'cocaine' in patient_record[\"doses\"]"
   ]
  },
  {
   "cell_type": "code",
   "execution_count": null,
   "metadata": {
    "collapsed": true
   },
   "outputs": [],
   "source": [
    "def drugtake(drugname,timetaken):\n",
    "    if(drugname not in patient_record['doses']) :\n",
    "        patient_record[\"doses\"][drugname] = []\n",
    "    ds1 = patient_record[\"doses\"][drugname]\n",
    "    ds1.append(timetaken)\n",
    "    return ds1 "
   ]
  },
  {
   "cell_type": "code",
   "execution_count": null,
   "metadata": {},
   "outputs": [],
   "source": [
    "drugtake('Heroine','2018-01-02 8:00')"
   ]
  },
  {
   "cell_type": "code",
   "execution_count": null,
   "metadata": {},
   "outputs": [],
   "source": [
    "pprint.pprint(patient_record)"
   ]
  },
  {
   "cell_type": "code",
   "execution_count": null,
   "metadata": {},
   "outputs": [],
   "source": [
    "expected_result={'code': '2634',\n",
    " 'doses': {\"cocaine\": [\"2018-01-01 8:00\"] },\n",
    " 'info': {'firstname': 'Tom', 'lastname': 'Tomson', 'tn': '5555555555'}}\n",
    "expected_result == patient_record"
   ]
  },
  {
   "cell_type": "code",
   "execution_count": null,
   "metadata": {},
   "outputs": [],
   "source": [
    "addDose('2634','addys','2018-01-03 8:00')"
   ]
  },
  {
   "cell_type": "code",
   "execution_count": null,
   "metadata": {},
   "outputs": [],
   "source": [
    "addPatient('Patients','2634','Tom','Tomson','5555555555')"
   ]
  },
  {
   "cell_type": "code",
   "execution_count": null,
   "metadata": {},
   "outputs": [],
   "source": [
    "response = getPatient('Patients','2634')\n",
    "pprint.pprint(response)"
   ]
  },
  {
   "cell_type": "code",
   "execution_count": null,
   "metadata": {
    "collapsed": true
   },
   "outputs": [],
   "source": []
  },
  {
   "cell_type": "code",
   "execution_count": null,
   "metadata": {
    "collapsed": true
   },
   "outputs": [],
   "source": []
  },
  {
   "cell_type": "code",
   "execution_count": null,
   "metadata": {},
   "outputs": [],
   "source": [
    "newTable('Patients')"
   ]
  },
  {
   "cell_type": "code",
   "execution_count": null,
   "metadata": {
    "collapsed": true
   },
   "outputs": [],
   "source": []
  },
  {
   "cell_type": "code",
   "execution_count": null,
   "metadata": {
    "collapsed": true
   },
   "outputs": [],
   "source": []
  },
  {
   "cell_type": "code",
   "execution_count": null,
   "metadata": {
    "collapsed": true
   },
   "outputs": [],
   "source": [
    "def getDoseRecords(patientID, drugName):\n",
    "    table = dynamodb.Table(patientID)\n",
    "    response = table.query(\n",
    "        KeyConditionExpression=Key('drug').eq(drugName)\n",
    "    )\n",
    "\n",
    "    for i in response['Items']:\n",
    "        print(i['drug'], \":\", i['doseTime'])\n",
    "        \n",
    "    return response['Count'], response['Items']"
   ]
  },
  {
   "cell_type": "code",
   "execution_count": null,
   "metadata": {
    "collapsed": true
   },
   "outputs": [],
   "source": [
    "def getDose(drug):\n",
    "\n",
    "    try:\n",
    "        response = table.get_item(\n",
    "            Key={\n",
    "                'drug': drug,   \n",
    "                'doseTime': doseTime,\n",
    "            }\n",
    "        )\n",
    "    except ClientError as e:\n",
    "        print(e.response['Error']['Message'])\n",
    "    else:\n",
    "        pprint.pprint(response)\n",
    "        item = response['Item']\n",
    "        print(\"GetItem succeeded:\")\n",
    "        print(json.dumps(item, indent=4, cls=DecimalEncoder))\n",
    "        print(type(item))\n",
    "        print (item['info'])\n",
    "       \n",
    "    return response\n"
   ]
  },
  {
   "cell_type": "code",
   "execution_count": null,
   "metadata": {
    "collapsed": true
   },
   "outputs": [],
   "source": [
    "cnt, items = getDoseRecords('Codine')"
   ]
  },
  {
   "cell_type": "code",
   "execution_count": null,
   "metadata": {
    "collapsed": true
   },
   "outputs": [],
   "source": [
    "items"
   ]
  },
  {
   "cell_type": "code",
   "execution_count": null,
   "metadata": {
    "collapsed": true
   },
   "outputs": [],
   "source": [
    "pprint.pprint(answer)"
   ]
  },
  {
   "cell_type": "code",
   "execution_count": null,
   "metadata": {
    "collapsed": true
   },
   "outputs": [],
   "source": [
    "answer[\"Item\"][\"info\"][\"Codine\"]"
   ]
  },
  {
   "cell_type": "code",
   "execution_count": null,
   "metadata": {
    "collapsed": true
   },
   "outputs": [],
   "source": [
    "assert (answer[\"Item\"][\"info\"][\"loggeddrug\"] == 'homework')"
   ]
  },
  {
   "cell_type": "code",
   "execution_count": null,
   "metadata": {
    "collapsed": true
   },
   "outputs": [],
   "source": [
    "newPatient('esteve')"
   ]
  },
  {
   "cell_type": "code",
   "execution_count": null,
   "metadata": {
    "collapsed": true
   },
   "outputs": [],
   "source": [
    "addCode(\"Codine\", \"9 o clockers\")"
   ]
  },
  {
   "cell_type": "code",
   "execution_count": null,
   "metadata": {
    "collapsed": true
   },
   "outputs": [],
   "source": [
    "#ToDo - prompt for code and telephone #\n",
    "from __future__ import print_function # Python 2/3 compatibility\n",
    "import boto3\n",
    "import json\n",
    "import decimal\n",
    "import pprint\n",
    "import datetime\n",
    "# Helper class to convert a DynamoDB item to JSON.\n",
    "class DecimalEncoder(json.JSONEncoder):\n",
    "    def default(self, o):\n",
    "        if isinstance(o, decimal.Decimal):\n",
    "            if o % 1 > 0:\n",
    "                return float(o)\n",
    "            else:\n",
    "                return int(o)\n",
    "        return super(DecimalEncoder, self).default(o)\n",
    "\n",
    "dynamodb = boto3.resource('dynamodb')\n",
    "\n",
    "table = dynamodb.Table('EvE')\n",
    "\n",
    "code = \"5555\" #Can this be the patient name followed by a number when the name is repeated Ex: Eve1 and Eve2 or name + code for easier categorization \n",
    "\n",
    "drugname = \"Codeine\"\n",
    "\n",
    "\n",
    "# response = table.put_item(\n",
    "#    Item={\n",
    "#         'code': code,\n",
    "#         'info': {\n",
    "#             'TN': 5555555555,\n",
    "#             'monthsToLabor': decimal.Decimal(6)\n",
    "#         }\n",
    "#     }\n",
    "# )\n",
    "\n",
    "\n",
    "\n",
    "def addCode (code, TN):\n",
    "    response = table.put_item(\n",
    "        Item={\n",
    "            'code': code,\n",
    "            'info': {\n",
    "                'TN': TN,\n",
    "                'loggeddrug': drugname ,\n",
    "                # syntax error in the time below\n",
    "                'dateOfDose':  str(datetime.datetime(2008, 11, 22, 19, 53, 42)) ,\n",
    "                'timeofdose': decimal.Decimal(1400) \n",
    "                #possibly make variable for time of entry that can be overwritten\n",
    "                #by time given by user if time of drug intake differs.\n",
    "                \n",
    "                }   \n",
    "            }\n",
    "\n",
    "    )\n",
    "    return response\n",
    "\n",
    "# response = addCode('1233',5555555556)\n",
    "\n",
    "# print(\"Phone number addition succeeded:\")\n",
    "# print(json.dumps(response, indent=4, cls=DecimalEncoder))\n",
    "\n",
    "try:\n",
    "    response = table.get_item(\n",
    "        Key={\n",
    "            'code': code,   \n",
    "        }\n",
    "    )\n",
    "except ClientError as e:\n",
    "    print(e.response['Error']['Message'])\n",
    "else:\n",
    "    pprint.pprint(response)\n",
    "    item = response['Item']\n",
    "    print(\"GetItem succeeded:\")\n",
    "    print(json.dumps(item, indent=4, cls=DecimalEncoder))\n",
    "    print(type(item))\n",
    "    print (item['info'])\n",
    "    print (item['info']['TN'])\n",
    "    # Add new Item ()\n",
    "\n"
   ]
  },
  {
   "cell_type": "code",
   "execution_count": null,
   "metadata": {
    "collapsed": true
   },
   "outputs": [],
   "source": [
    "response['ResponseMetadata']['HTTPStatusCode']"
   ]
  },
  {
   "cell_type": "code",
   "execution_count": null,
   "metadata": {
    "collapsed": true
   },
   "outputs": [],
   "source": [
    "type(response)"
   ]
  },
  {
   "cell_type": "code",
   "execution_count": null,
   "metadata": {
    "collapsed": true
   },
   "outputs": [],
   "source": [
    "response.keys()"
   ]
  },
  {
   "cell_type": "code",
   "execution_count": null,
   "metadata": {
    "collapsed": true
   },
   "outputs": [],
   "source": [
    "response = table.put_item(\n",
    "        Item={\n",
    "            'code': code,\n",
    "            'info': {\n",
    "                \n",
    "                'loggeddrug': drugname ,\n",
    "                # syntax error in the time below\n",
    "                'dateOfDose':  str(datetime.datetime(2008, 11, 22, 19, 53, 42)) ,\n",
    "                'timeofdose': decimal.Decimal(1400) \n",
    "                #possibly make variable for time of entry that can be overwritten\n",
    "                #by time given by user if time of drug intake differs.\n",
    "                \n",
    "                }   \n",
    "            }\n",
    "\n",
    "    )"
   ]
  },
  {
   "cell_type": "code",
   "execution_count": null,
   "metadata": {
    "collapsed": true
   },
   "outputs": [],
   "source": [
    "response "
   ]
  },
  {
   "cell_type": "code",
   "execution_count": null,
   "metadata": {
    "collapsed": true
   },
   "outputs": [],
   "source": [
    " datetime.datetime.time(datetime.datetime.now())"
   ]
  },
  {
   "cell_type": "code",
   "execution_count": null,
   "metadata": {
    "collapsed": true
   },
   "outputs": [],
   "source": [
    "str datetime.datetime(datetime.datetime.now())"
   ]
  },
  {
   "cell_type": "code",
   "execution_count": null,
   "metadata": {
    "collapsed": true
   },
   "outputs": [],
   "source": [
    "str( datetime.datetime(datetime.datetime.now()))"
   ]
  },
  {
   "cell_type": "code",
   "execution_count": null,
   "metadata": {
    "collapsed": true
   },
   "outputs": [],
   "source": [
    "str(datetime.datetime.now())"
   ]
  },
  {
   "cell_type": "code",
   "execution_count": null,
   "metadata": {
    "collapsed": true
   },
   "outputs": [],
   "source": [
    "addCode(\"3332\", \"homework\", \"4\")"
   ]
  },
  {
   "cell_type": "code",
   "execution_count": null,
   "metadata": {
    "collapsed": true
   },
   "outputs": [],
   "source": [
    "addCode()"
   ]
  }
 ],
 "metadata": {
  "anaconda-cloud": {},
  "kernelspec": {
   "display_name": "Python [conda root]",
   "language": "python",
   "name": "conda-root-py"
  },
  "language_info": {
   "codemirror_mode": {
    "name": "ipython",
    "version": 3
   },
   "file_extension": ".py",
   "mimetype": "text/x-python",
   "name": "python",
   "nbconvert_exporter": "python",
   "pygments_lexer": "ipython3",
   "version": "3.5.4"
  }
 },
 "nbformat": 4,
 "nbformat_minor": 2
}
